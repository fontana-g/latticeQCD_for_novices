{
 "cells": [
  {
   "cell_type": "markdown",
   "metadata": {},
   "source": [
    "**V_QCD between two static quark action not improved**"
   ]
  },
  {
   "cell_type": "code",
   "execution_count": 1,
   "metadata": {},
   "outputs": [],
   "source": [
    "import numpy as np\n",
    "from numpy.random import uniform \n",
    "import matplotlib.pyplot as plt\n",
    "import os\n",
    "from tqdm import tqdm\n",
    "from scipy.optimize import least_squares"
   ]
  },
  {
   "cell_type": "markdown",
   "metadata": {},
   "source": [
    "**functions to generate SU(3) matrices**"
   ]
  },
  {
   "cell_type": "code",
   "execution_count": null,
   "metadata": {},
   "outputs": [],
   "source": [
    "def generate_hermitean():\n",
    "    H=np.zeros((3,3),np.complex_)\n",
    "    for i in range(3):\n",
    "        for j in range(3):\n",
    "            H[i][j]= uniform(-1,1) + 1j*uniform(-1,1)\n",
    "    H = (1/2)*(H+np.matrix.getH(H))\n",
    "    return H"
   ]
  },
  {
   "cell_type": "code",
   "execution_count": null,
   "metadata": {},
   "outputs": [],
   "source": [
    "def unitarization(H):\n",
    "    M=np.zeros((3,3),np.complex_)\n",
    "   \n",
    "    for n in range(30):\n",
    "        M+=(((1j*eps)**n)/(np.math.factorial(n))*np.linalg.matrix_power(H,n))\n",
    "    detM=np.linalg.det(M)**(1/3)\n",
    "    M=M/detM\n",
    "    \n",
    "    return M"
   ]
  },
  {
   "cell_type": "code",
   "execution_count": null,
   "metadata": {},
   "outputs": [],
   "source": [
    "def generate_pool(MatList,Nmatrix):\n",
    "    \n",
    "    H=np.zeros((3,3),np.complex_)\n",
    "       \n",
    "    for i in range(Nmatrix):\n",
    "        H=generate_hermitean()\n",
    "        MatList[i]=unitarization(H)\n",
    "        MatList[Nmatrix+i]=np.matrix.getH(unitarization(H))\n",
    "        \n",
    "    return MatList"
   ]
  },
  {
   "cell_type": "markdown",
   "metadata": {},
   "source": [
    "**lattice generation function**\n",
    "\n",
    "generate lattice and 4 3x3 identity matrices on each site"
   ]
  },
  {
   "cell_type": "code",
   "execution_count": null,
   "metadata": {},
   "outputs": [],
   "source": [
    "def create_lattice(Npoints,dim):\n",
    "    points = np.empty( (Npoints,Npoints,Npoints,Npoints,dim,3,3), np.complex_ )\n",
    "    \n",
    "    #print(lattice)\n",
    "    for t in range(Npoints):\n",
    "        for x in range(Npoints):\n",
    "            for y in range(Npoints):\n",
    "                for z in range(Npoints):\n",
    "                    for mu in range(dim):\n",
    "                        points[t,x,y,z,mu]=np.identity(3,np.complex_)    \n",
    "    print(\"finish lattice creation\")  #debug\n",
    "    return points"
   ]
  },
  {
   "cell_type": "markdown",
   "metadata": {},
   "source": [
    "**coordinate functions**\n",
    "\n",
    "moving a given point in + direction or - direction"
   ]
  },
  {
   "cell_type": "code",
   "execution_count": null,
   "metadata": {},
   "outputs": [],
   "source": [
    "#moving a coordinate up\n",
    "def up(coordinate,direction,dimensions,N_points):\n",
    "    coord_up=np.zeros((dimensions),np.int_)\n",
    "    up=np.zeros((dimensions),np.int_)\n",
    "    up[direction]=1\n",
    "    coord_up=(coordinate + up)%N_points\n",
    "    return coord_up\n",
    "\n",
    "\n",
    "#moving a coordinate down\n",
    "def down(coordinate,direction,dimensions,N_points):\n",
    "    coord_down=np.zeros((dimensions),np.int_)\n",
    "    down=np.zeros((dimensions),np.int_)\n",
    "    down[direction]=1\n",
    "    coord_down=(coordinate-down)%N_points\n",
    "    return coord_down"
   ]
  },
  {
   "cell_type": "markdown",
   "metadata": {},
   "source": [
    "**plaquette**\n",
    "\n",
    "only up and down 1x1 squares"
   ]
  },
  {
   "cell_type": "code",
   "execution_count": 7,
   "metadata": {},
   "outputs": [],
   "source": [
    "def plaquette(lattice,mu,x,y,z,t):\n",
    "    \n",
    "    staple=0. \n",
    "    staple_up=0.\n",
    "    staple_down=0.\n",
    "    \n",
    "    point=[x,y,z,t]\n",
    "    #point(x+mu)\n",
    "    point_umu=np.zeros((4),np.int_)\n",
    "    point_umu=up(point,mu,4,N)\n",
    "    \n",
    "    for nu in range(4):\n",
    "        if nu!=mu :\n",
    "            \n",
    "            #point(x+nu)\n",
    "            point_unu=np.zeros((4),np.int_)\n",
    "            point_unu=up(point,nu,4,N)\n",
    "            \n",
    "            #point(x-nu)\n",
    "            point_dnu=np.zeros((4),np.int_)\n",
    "            point_dnu=down(point,nu,4,N)\n",
    "            \n",
    "            #point(x+mu+nu)\n",
    "            point_umu_unu=np.zeros((4),np.int_)\n",
    "            point_umu_unu=up(point_umu,nu,4,N)\n",
    "            \n",
    "            #point(x+mu-nu)\n",
    "            point_umu_dnu=np.zeros((4),np.int_)\n",
    "            point_umu_dnu=up(point_dnu,mu,4,N)\n",
    "            \n",
    "            U_nu_upmu=np.zeros((3,3),np.complex_)\n",
    "            U_nu=np.zeros((3,3),np.complex_)\n",
    "            U_nu_downnu=np.zeros((3,3),np.complex_)\n",
    "            U_mu_downnu=np.zeros((3,3),np.complex_) \n",
    "            U_mu_upmudownnu=np.zeros((3,3),np.complex_)\n",
    "            \n",
    "            U_nu_upmu=lattice[point_umu[0],point_umu[1],point_umu[2],point_umu[3],nu]\n",
    "            U_mu_upnu=lattice[point_unu[0],point_unu[1],point_unu[2],point_unu[3],mu]\n",
    "            U_nu=lattice[point[0],point[1],point[2],point[3],nu]\n",
    "            U_nu_downnu=lattice[point_dnu[0],point_dnu[1],point_dnu[2],point_dnu[3],nu]\n",
    "            U_mu_downnu=lattice[point_dnu[0],point_dnu[1],point_dnu[2],point_dnu[3],mu]\n",
    "            U_nu_upmudownnu=lattice[point_umu_dnu[0],point_umu_dnu[1],point_umu_dnu[2],point_umu_dnu[3],nu]\n",
    "            \n",
    "            staple_up=np.dot(np.dot(U_nu_upmu,np.matrix.getH(U_mu_upnu)),np.matrix.getH(U_nu))\n",
    "            staple_down=np.dot(np.dot(np.matrix.getH(U_nu_upmudownnu),np.matrix.getH(U_mu_downnu)),U_nu_downnu)\n",
    "            \n",
    "            staple=staple + staple_up + staple_down\n",
    "                        \n",
    "\n",
    "    return staple.copy()"
   ]
  },
  {
   "cell_type": "markdown",
   "metadata": {},
   "source": [
    "**metropolis function**"
   ]
  },
  {
   "cell_type": "code",
   "execution_count": 8,
   "metadata": {},
   "outputs": [],
   "source": [
    "def lattice_update(lattice,Xs):\n",
    "    \n",
    "    n_hits=10\n",
    "    gamma=0\n",
    "    \n",
    "    for x in range(N):\n",
    "        for y in range(N):\n",
    "            for z in range(N):\n",
    "                for t in range(N):\n",
    "                    for mu in range(4):\n",
    "                        \n",
    "                        coord=[x,y,z,t]\n",
    "                        gamma=plaquette(lattice,mu,x,y,z,t)\n",
    "                        \n",
    "                        \n",
    "                        for i in range(n_hits):#do n_hits of metropolis update\n",
    "                            \n",
    "                            xi=np.random.randint(2, N_matrix*2)\n",
    "                            U_old=lattice[coord[0],coord[1],coord[2],coord[3],mu]\n",
    "                            U_new=np.dot(Xs[xi],U_old)\n",
    "                            \n",
    "                            dS= -(beta/3)*np.real(np.trace(np.dot(U_new-U_old,gamma)))\n",
    "\n",
    "                            if dS<0 or np.exp(-dS)>np.random.uniform(0,1):\n",
    "                                lattice[coord[0],coord[1],coord[2],coord[3],mu] = U_new"
   ]
  },
  {
   "cell_type": "markdown",
   "metadata": {},
   "source": [
    "V_qcd for **fitting**"
   ]
  },
  {
   "cell_type": "code",
   "execution_count": 9,
   "metadata": {},
   "outputs": [],
   "source": [
    "#fun to use in fit\n",
    "def V_exact(x,r,y):\n",
    "    return x[0]*r-x[1]/r+x[2]-y\n",
    "\n",
    "#fun generator for static potential given fit parameters\n",
    "def fun_generator(r,a,b,c):\n",
    "    return a*r-b/r+c"
   ]
  },
  {
   "cell_type": "markdown",
   "metadata": {},
   "source": [
    "**prod U, prod U_dags**\n",
    "\n",
    "products of several link variables in both directions"
   ]
  },
  {
   "cell_type": "code",
   "execution_count": 10,
   "metadata": {},
   "outputs": [],
   "source": [
    "def prodU(lattice,x,y,z,t,n,f):\n",
    "    \n",
    "    productU=np.zeros((3,3),np.complex_)\n",
    "    U_f=np.zeros((3,3),np.complex_)\n",
    "    productU=np.identity((3),np.complex_)  \n",
    "    point=[x,y,z,t]\n",
    "    point_upf=np.zeros((4),np.int_)\n",
    "    \n",
    "    for i in range(n):\n",
    "        \n",
    "        if i==0:\n",
    "            point_upf=point\n",
    "            U_f=lattice[point_upf[0],point_upf[1],point_upf[2],point_upf[3],f]\n",
    "            productU=np.dot(productU,U_f) \n",
    "        else:\n",
    "            point_upf=up(point_upf,f,4,N)\n",
    "            U_f=lattice[point_upf[0],point_upf[1],point_upf[2],point_upf[3],f]\n",
    "            productU=np.dot(productU,U_f) \n",
    "        \n",
    "    return productU.copy()"
   ]
  },
  {
   "cell_type": "code",
   "execution_count": 11,
   "metadata": {},
   "outputs": [],
   "source": [
    "def prodUdag(lattice,x,y,z,t,n,f):\n",
    "    \n",
    "    productUdagger=np.zeros((3,3),np.complex_) \n",
    "    U_fdag=np.zeros((3,3),np.complex_)\n",
    "    productUdagger=np.identity((3),np.complex_) \n",
    "    point=[x,y,z,t]\n",
    "    point_downf=np.zeros((4),np.int_)\n",
    "    point_downf=point\n",
    "    for i in range(n):\n",
    "        \n",
    "        point_downf=down(point_downf,f,4,N)\n",
    "        \n",
    "        U_fdag=np.matrix.getH(lattice[point_downf[0],point_downf[1],point_downf[2],point_downf[3],f])\n",
    "        productUdagger=np.dot(productUdagger,U_fdag) \n",
    "    return productUdagger.copy()"
   ]
  },
  {
   "cell_type": "markdown",
   "metadata": {},
   "source": [
    "**Smearing** functions"
   ]
  },
  {
   "cell_type": "code",
   "execution_count": 12,
   "metadata": {},
   "outputs": [],
   "source": [
    "def Smearing(lattice):\n",
    "    \n",
    "    smeared_der=np.zeros((N,N,N,N,4,3,3),np.complex_)\n",
    "    smeared_der=Smeared_derivative(lattice) \n",
    "\n",
    "    for x in range(N):\n",
    "        for y in range(N):\n",
    "            for z in range(N):\n",
    "                for t in range(N):\n",
    "                    for mu in range(3):\n",
    "                        lattice[x,y,z,t,mu]=lattice[x,y,z,t,mu].copy()+eps*a**2*smeared_der[x,y,z,t,mu].copy()\n",
    "    return lattice.copy()\n",
    "\n",
    "def Smeared_derivative(lattice):\n",
    "    \n",
    "    U_nu=np.zeros((3,3),np.complex_)\n",
    "    U_mu_upnu=np.zeros((3,3),np.complex_)\n",
    "    U_nu_upmu=np.zeros((3,3),np.complex_)\n",
    "    U_mu=np.zeros((3,3),np.complex_)\n",
    "    U_nu_downnu=np.zeros((3,3),np.complex_)\n",
    "    U_mu_downnu=np.zeros((3,3),np.complex_)\n",
    "    U_nu_upmudownnu=np.zeros((3,3),np.complex_)\n",
    "                            \n",
    "    derivative_update=np.zeros((N,N,N,N,4,3,3),np.complex_)\n",
    "    \n",
    "\n",
    "    for x in range(N):\n",
    "        for y in range(N):\n",
    "            for z in range(N):\n",
    "                for t in range(N):\n",
    "                    #point(x)\n",
    "                    point=[x,y,z,t]\n",
    "                    for mu in range(4):\n",
    "                        \n",
    "                        #point(x+mu)\n",
    "                        point_umu=np.zeros((4),np.int)\n",
    "                        point_umu=up(point,mu,4,N)\n",
    "                    \n",
    "                        for nu in range(4):\n",
    "                            \n",
    "                            #point(x+nu)\n",
    "                            point_unu=np.zeros((4),np.int)\n",
    "                            point_unu=up(point,nu,4,N)\n",
    "                            \n",
    "                            #point(x-nu)\n",
    "                            point_dnu=np.zeros((4),np.int)\n",
    "                            point_dnu=down(point,nu,4,N)\n",
    "                            \n",
    "                            #point(x+mu-nu)\n",
    "                            point_umu_dnu=np.zeros((4),np.int)\n",
    "                            point_umu_dnu=up(point_dnu,mu,4,N)\n",
    "                            \n",
    "                            #links for the link product\n",
    "                            U_nu=lattice[point[0],point[1],point[2],point[3],nu]\n",
    "                            U_mu_upnu=lattice[point_unu[0],point_unu[1],point_unu[2],point_unu[3],mu]\n",
    "                            U_nu_upmu=lattice[point_umu[0],point_umu[1],point_umu[2],point_umu[3],nu]\n",
    "                            U_mu=lattice[point[0],point[1],point[2],point[3],mu]\n",
    "                            U_nu_downnu=lattice[point_dnu[0],point_dnu[1],point_dnu[2],point_dnu[3],nu]\n",
    "                            U_mu_downnu=lattice[point_dnu[0],point_dnu[1],point_dnu[2],point_dnu[3],mu]\n",
    "                            U_nu_upmudownnu=lattice[point_umu_dnu[0],point_umu_dnu[1],point_umu_dnu[2],point_umu_dnu[3],nu]\n",
    "                            \n",
    "                            derivative_update[x,y,z,t,mu]+= 1./(u0**2*a**2)*(np.dot(np.dot(U_nu,U_mu_upnu),np.matrix.getH(U_nu_upmu))) \\\n",
    "                                        -2./(a**2)*(U_mu) \\\n",
    "                                        +1./(u0**2*a**2)*(np.dot(np.dot(np.matrix.getH(U_nu_downnu),U_mu_downnu),U_nu_upmudownnu))\n",
    "                        \n",
    "    return derivative_update.copy()"
   ]
  },
  {
   "cell_type": "markdown",
   "metadata": {},
   "source": [
    "**wilson loop**\n",
    "\n",
    "double: clockwise + anticlockwise"
   ]
  },
  {
   "cell_type": "code",
   "execution_count": 13,
   "metadata": {},
   "outputs": [],
   "source": [
    "def wilson_double(lattice,time,radius):\n",
    "    \n",
    "    prodUt=np.zeros((3,3),np.complex_) \n",
    "    prodUr=np.zeros((3,3),np.complex_) \n",
    "    prodUt_dag=np.zeros((3,3),np.complex_) \n",
    "    prodUr_dag=np.zeros((3,3),np.complex_) \n",
    "    prodUt_inv=np.zeros((3,3),np.complex_) \n",
    "    prodUr_inv=np.zeros((3,3),np.complex_) \n",
    "    prodUt_dag_inv=np.zeros((3,3),np.complex_) \n",
    "    prodUr_dag_inv=np.zeros((3,3),np.complex_) \n",
    "    \n",
    "    \n",
    "    wilson=0.\n",
    "    point_r=np.zeros((3),np.int_)\n",
    "    for space in range(3): # 0=x,1=y,2=z\n",
    "        \n",
    "        for x in range(N):\n",
    "            for y in range(N):\n",
    "                for z in range(N):\n",
    "                    for t in range(N):\n",
    "                        time_upT=(t+time)%N\n",
    "                        point=[x,y,z]\n",
    "                        point_r=point\n",
    "                        #incremented coordinates in the spatial direction\n",
    "                        for r in range(radius):\n",
    "                            point_r=up(point_r,space,3,N)\n",
    "                        #counterclockwise\n",
    "                        prodUt=prodU(lattice,x,y,z,t,time,3) \n",
    "                        prodUr=prodU(lattice,x,y,z,time_upT,radius,space) \n",
    "                        prodUt_dag=prodUdag(lattice,point_r[0],point_r[1],point_r[2],time_upT,time,3) \n",
    "                        prodUr_dag=prodUdag(lattice,point_r[0],point_r[1],point_r[2],t,radius,space) \n",
    "                        #clockwise \n",
    "                        prodUt_inv=prodU(lattice,point_r[0],point_r[1],point_r[2],t,time,3)\n",
    "                        prodUr_inv=prodU(lattice,x,y,z,t,radius,space)\n",
    "                        prodUr_dag_inv=prodUdag(lattice,point_r[0],point_r[1],point_r[2],time_upT,radius,space)\n",
    "                        prodUt_dag_inv=prodUdag(lattice,x,y,z,time_upT,time,3)\n",
    "                        \n",
    "                        wilson+=np.real(np.trace(np.dot(prodUt,np.dot(prodUr,np.dot(prodUt_dag,prodUr_dag))))) \\\n",
    "                                +np.real(np.trace(np.dot(prodUr_inv,np.dot(prodUt_inv,np.dot(prodUr_dag_inv,prodUt_dag_inv)))))\n",
    "        \n",
    "    return wilson/9./N**4/2"
   ]
  },
  {
   "cell_type": "markdown",
   "metadata": {},
   "source": [
    "**main**\n",
    "\n",
    "input parameters, allocation of arrays"
   ]
  },
  {
   "cell_type": "code",
   "execution_count": 14,
   "metadata": {},
   "outputs": [],
   "source": [
    "a=0.25 \n",
    "N=5 \n",
    "dim=4\n",
    "eps=1./12.\n",
    "u0=0.797\n",
    "beta = 5.5\n",
    "beta_imp=1.719\n",
    "r_max=4 #max r + 1\n",
    "t_max=5 #max t + 1 \n",
    "N_matrix=200 \n",
    "N_cf=10 \n",
    "N_cor=50 "
   ]
  },
  {
   "cell_type": "code",
   "execution_count": 15,
   "metadata": {},
   "outputs": [],
   "source": [
    "\n",
    "lattice=np.zeros((N,N,N,N,4,3,3),np.complex_)\n",
    "update_Ms=np.zeros((N_matrix*2,3,3),np.complex_)\n",
    "lattice_smeared=np.zeros((N,N,N,N,4,3,3),np.complex_)\n",
    "WL=np.zeros((N_cf,t_max,r_max), np.double) \n",
    "smearing_choice=True # as default we apply the smearing\n"
   ]
  },
  {
   "cell_type": "markdown",
   "metadata": {},
   "source": [
    "**thermalization**"
   ]
  },
  {
   "cell_type": "code",
   "execution_count": 16,
   "metadata": {},
   "outputs": [
    {
     "name": "stdout",
     "output_type": "stream",
     "text": [
      "finish lattice creation\n"
     ]
    },
    {
     "name": "stderr",
     "output_type": "stream",
     "text": [
      "100%|██████████| 50/50 [01:16<00:00,  1.53s/it]"
     ]
    },
    {
     "name": "stdout",
     "output_type": "stream",
     "text": [
      "thermalization done\n"
     ]
    },
    {
     "name": "stderr",
     "output_type": "stream",
     "text": [
      "\n"
     ]
    }
   ],
   "source": [
    "\n",
    "lattice=create_lattice(N,dim) \n",
    "update_Ms=generate_pool(update_Ms,N_matrix)\n",
    "\n",
    "\n",
    "#thermalization step\n",
    "for i in tqdm(range(N_cor)):\n",
    "    lattice_update(lattice,update_Ms)\n",
    "print(\"thermalization done\")"
   ]
  },
  {
   "cell_type": "markdown",
   "metadata": {},
   "source": [
    "**computing N_cf configurations**"
   ]
  },
  {
   "cell_type": "code",
   "execution_count": 17,
   "metadata": {},
   "outputs": [
    {
     "name": "stderr",
     "output_type": "stream",
     "text": [
      "100%|██████████| 10/10 [1:11:15<00:00, 427.52s/it]"
     ]
    },
    {
     "name": "stdout",
     "output_type": "stream",
     "text": [
      "simulations done\n"
     ]
    },
    {
     "name": "stderr",
     "output_type": "stream",
     "text": [
      "\n"
     ]
    }
   ],
   "source": [
    "for alpha in tqdm(range(N_cf)):\n",
    "    for k in range(5*N_cor):\n",
    "        lattice_update(lattice,update_Ms)\n",
    "        \n",
    "    #smearing\n",
    "    lattice_smeared=lattice.copy()\n",
    "    if smearing_choice:\n",
    "        lattice_smeared=Smearing(lattice_smeared) \n",
    "        \n",
    "    \n",
    "    for t in range(1,t_max):\n",
    "        for r in range(1,r_max):\n",
    "            WL[alpha][t][r]=wilson_double(lattice_smeared,t,r)\n",
    "print(\"simulations done\")"
   ]
  },
  {
   "cell_type": "markdown",
   "metadata": {},
   "source": [
    "**averages**\n",
    "\n",
    "and error analysis"
   ]
  },
  {
   "cell_type": "code",
   "execution_count": 24,
   "metadata": {},
   "outputs": [],
   "source": [
    "WL_avg=np.zeros((t_max,r_max),np.double) \n",
    "WL_avg_sq=np.zeros((t_max,r_max),np.double)  \n",
    "WL_avg_error=np.zeros((t_max,r_max),np.double) "
   ]
  },
  {
   "cell_type": "code",
   "execution_count": 25,
   "metadata": {},
   "outputs": [],
   "source": [
    "for t in range(1,t_max):\n",
    "    for r in range(1,r_max):\n",
    "        \n",
    "        for alpha in range(N_cf):\n",
    "            WL_avg[t][r] += WL[alpha][t][r]\n",
    "            WL_avg_sq[t][r] += WL[alpha][t][r]**2\n",
    "        WL_avg[t][r] = WL_avg[t][r]/N_cf\n",
    "        WL_avg_sq[t][r] = WL_avg_sq[t][r]/N_cf\n",
    "        WL_avg_error[t][r]= ((WL_avg_sq[t][r]-WL_avg[t][r]**2)/N_cf)**(1/2)"
   ]
  },
  {
   "cell_type": "markdown",
   "metadata": {},
   "source": [
    "**potential computation**"
   ]
  },
  {
   "cell_type": "code",
   "execution_count": 26,
   "metadata": {},
   "outputs": [],
   "source": [
    "potential=np.zeros(r_max) \n",
    "err_potential=np.zeros(r_max) \n",
    "rad=np.zeros(r_max)"
   ]
  },
  {
   "cell_type": "code",
   "execution_count": 27,
   "metadata": {},
   "outputs": [],
   "source": [
    "#require large t\n",
    "for r in range(1,r_max):\n",
    "    potential[r]=np.abs( WL_avg[t_max-2,r]/WL_avg[t_max-1,r])\n",
    "    err_potential[r] =((WL_avg_error[t_max-1,r]/WL_avg[t_max-1,r])**2+(WL_avg_error[t_max-2,r]/WL_avg[t_max-2,r])**2)**(1/2)*potential[r]\n",
    "    rad[r] = r"
   ]
  },
  {
   "cell_type": "markdown",
   "metadata": {},
   "source": [
    "**plotting and fitting**"
   ]
  },
  {
   "cell_type": "code",
   "execution_count": null,
   "metadata": {},
   "outputs": [],
   "source": []
  },
  {
   "cell_type": "code",
   "execution_count": 28,
   "metadata": {},
   "outputs": [],
   "source": [
    "x=np.ones(3) #initial guess\n",
    "fit_lsq = least_squares(V_exact, x, loss='soft_l1', args=(rad[1:], potential[1:])) #application of the least square method using the scipy function\n",
    "r_gen = np.linspace(0.5, 4,500) #generation of points for the graph\n",
    "V_lsq = fun_generator(r_gen, *fit_lsq.x) #generation of points for the graph\n"
   ]
  },
  {
   "cell_type": "code",
   "execution_count": null,
   "metadata": {},
   "outputs": [],
   "source": []
  },
  {
   "cell_type": "code",
   "execution_count": 30,
   "metadata": {},
   "outputs": [
    {
     "data": {
      "image/png": "[encoded data removed]",
      "text/plain": [
       "<Figure size 1440x1080 with 1 Axes>"
      ]
     },
     "metadata": {
      "needs_background": "light"
     },
     "output_type": "display_data"
    }
   ],
   "source": [
    "plt.figure(figsize=(20,15))\n",
    "plt.errorbar(rad[1:], potential[1:], yerr=err_potential[1:], fmt='.', color='tomato', label='Numerical');\n",
    "plt.plot(r_gen,V_lsq,label='Regression',color='cadetblue')\n",
    "#plt.axis([0.5,4,0,2.6])\n",
    "plt.legend(loc='upper right',fontsize=28)\n",
    "plt.title('Static quark potential',fontsize=38)\n",
    "plt.xlabel('$r/a$',fontsize=28)\n",
    "plt.ylabel('$V(r)a$',fontsize=28)\n",
    "plt.savefig('Vqcd_notimproved.pdf')  \n",
    "plt.show()\n"
   ]
  },
  {
   "cell_type": "code",
   "execution_count": null,
   "metadata": {},
   "outputs": [],
   "source": []
  },
  {
   "cell_type": "code",
   "execution_count": null,
   "metadata": {},
   "outputs": [],
   "source": []
  }
 ],
 "metadata": {
  "kernelspec": {
   "display_name": "Python 3",
   "language": "python",
   "name": "python3"
  },
  "language_info": {
   "codemirror_mode": {
    "name": "ipython",
    "version": 3
   },
   "file_extension": ".py",
   "mimetype": "text/x-python",
   "name": "python",
   "nbconvert_exporter": "python",
   "pygments_lexer": "ipython3",
   "version": "3.8.3"
  }
 },
 "nbformat": 4,
 "nbformat_minor": 4
}
