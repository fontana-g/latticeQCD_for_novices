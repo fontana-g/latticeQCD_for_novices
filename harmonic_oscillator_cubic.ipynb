{
 "cells": [
  {
   "cell_type": "markdown",
   "metadata": {},
   "source": [
    "**metropolis harmonic oscillator cube**"
   ]
  },
  {
   "cell_type": "code",
   "execution_count": 23,
   "metadata": {},
   "outputs": [],
   "source": [
    "import numpy as np\n",
    "from matplotlib import pyplot as plt\n",
    "import math\n",
    "from numpy.random import uniform\n",
    "from numpy import *"
   ]
  },
  {
   "cell_type": "code",
   "execution_count": 29,
   "metadata": {},
   "outputs": [],
   "source": [
    "a=1/2\n",
    "N=20\n",
    "N_conf=1000\n",
    "N_cor=20\n",
    "epsilon=1.4\n",
    "x=np.zeros(N, 'double')\n",
    "G=np.zeros((N_cf,N), 'double')\n",
    "G_avg=np.zeros(N, 'double')\n",
    "G_avg_square=np.zeros(N, 'double')\n",
    "G_error=np.zeros(N, 'double')"
   ]
  },
  {
   "cell_type": "code",
   "execution_count": 30,
   "metadata": {},
   "outputs": [],
   "source": [
    "def update(x):\n",
    "    N=20\n",
    "    eps=1.4\n",
    "    for i in range(N):\n",
    "        x_old = x[i] \n",
    "        S_old = S(i,x)\n",
    "        noise=uniform(-epsilon,epsilon)\n",
    "        x[i] = x[i] + noise \n",
    "        dS = S(i,x) - S_old # change in action\n",
    "        if dS>0 and exp(-dS)<random.uniform(0,1):\n",
    "                x[i] = x_old "
   ]
  },
  {
   "cell_type": "code",
   "execution_count": 31,
   "metadata": {},
   "outputs": [],
   "source": [
    "def S(i,x): # harm. osc. S\n",
    "    N=20\n",
    "    a=1/2\n",
    "    jp = (i+1)%N # next site\n",
    "    jm = (i-1)%N # previous site\n",
    "    return a*x[i]**2/2 + x[i]*(x[i]-x[jp]-x[jm])/a\n"
   ]
  },
  {
   "cell_type": "code",
   "execution_count": 32,
   "metadata": {},
   "outputs": [],
   "source": [
    "def compute_G(x,n):\n",
    "    g = 0\n",
    "    N=20\n",
    "    for i in range(N):\n",
    "        g = g + (x[i]**3)*(x[(i+n)%N]**3)\n",
    "    return g/N"
   ]
  },
  {
   "cell_type": "code",
   "execution_count": 33,
   "metadata": {},
   "outputs": [
    {
     "name": "stdout",
     "output_type": "stream",
     "text": [
      "0.0 1.6576286994198246 0.08441355633737102\n",
      "0.5 0.7734775646131632 0.047481730491353936\n",
      "1.0 0.43080730738998246 0.030460269718185513\n",
      "1.5 0.25836103880276196 0.022689841741273763\n",
      "2.0 0.16148567652753296 0.017259323564254123\n",
      "2.5 0.09628766042974918 0.015433279291307812\n",
      "3.0 0.06314340052620303 0.01556694490838068\n",
      "3.5 0.046738271864071555 0.016922331027773598\n",
      "4.0 0.023992633689359784 0.018746504659682986\n",
      "4.5 0.01507303477620436 0.021129460241735672\n",
      "5.0 0.028604516618512554 0.022059353412306203\n",
      "5.5 0.015073034776204365 0.02112946024173567\n",
      "6.0 0.023992633689359784 0.018746504659682986\n",
      "6.5 0.04673827186407154 0.016922331027773598\n",
      "7.0 0.06314340052620303 0.01556694490838068\n",
      "7.5 0.09628766042974918 0.015433279291307812\n",
      "8.0 0.16148567652753296 0.017259323564254123\n",
      "8.5 0.25836103880276196 0.022689841741273763\n",
      "9.0 0.43080730738998246 0.030460269718185516\n",
      "9.5 0.7734775646131631 0.047481730491353936\n"
     ]
    }
   ],
   "source": [
    "for i in range(5*N_cor): # thermalize \n",
    "    update(x)\n",
    "    \n",
    "for alpha in range(N_conf): # loop on random paths\n",
    "    for i in range(N_cor):\n",
    "        update(x)\n",
    "    for n in range(N):\n",
    "        G[alpha][n] = compute_G(x,n)\n",
    "for n in range(N): # compute MC averages\n",
    "    G_avg[n] = 0\n",
    "    G_avg_square[n] = 0\n",
    "    for alpha in range(0,N_cf):\n",
    "        G_avg[n] += G[alpha][n]\n",
    "        G_avg_square[n] +=(G[alpha][n])**2\n",
    "    G_avg[n] = G_avg[n]/N_cf  #mean value on every path of the propagator\n",
    "    G_avg_square[n]=G_avg_square[n]/N_cf\n",
    "    G_error[n]=((G_avg_square[n]-(G_avg[n])**2)/N_cf)**(1/2) #error as std deviation\n",
    "    #print(n*a,G_avg[n],G_error[n]) #print of the result for every point n"
   ]
  },
  {
   "cell_type": "code",
   "execution_count": 34,
   "metadata": {},
   "outputs": [],
   "source": [
    "E_error=np.zeros(N-1, 'double')\n",
    "dE=np.zeros(N-1, 'double')\n",
    "t=np.zeros(N-1, 'double')\n",
    "#exact=ones(N-1, 'double')\n"
   ]
  },
  {
   "cell_type": "code",
   "execution_count": 36,
   "metadata": {},
   "outputs": [
    {
     "name": "stdout",
     "output_type": "stream",
     "text": [
      "0.0 1.5244934023739867 0.21822968511684393\n",
      "0.5 1.1704715141136077 0.12149505301758795\n",
      "1.0 1.0226058511950786 0.08402727006619408\n",
      "1.5 0.9398830668312372 0.062084426465572114\n",
      "2.0 1.0341525493327433 0.055708429076180226\n",
      "2.5 0.8438636704543554 0.05161118403645635\n",
      "3.0 0.6016899671198549 0.051203240720542526\n",
      "3.5 1.3336330028372516 0.07507532740090302\n",
      "4.0 0.9296789652287013 0.07127080416284477\n",
      "4.5 -1.2813145161406612 0.08349769040638982\n",
      "5.0 1.2813145161406607 0.08349769040638978\n",
      "5.5 -0.9296789652287006 0.07127080416284476\n",
      "6.0 -1.3336330028372512 0.075075327400903\n",
      "6.5 -0.6016899671198557 0.05120324072054254\n",
      "7.0 -0.8438636704543552 0.05161118403645635\n",
      "7.5 -1.0341525493327435 0.055708429076180226\n",
      "8.0 -0.9398830668312372 0.062084426465572114\n",
      "8.5 -1.0226058511950784 0.08402727006619408\n",
      "9.0 -1.1704715141136077 0.12149505301758795\n"
     ]
    }
   ],
   "source": [
    "for n in range(0,N-1):\n",
    "    dE[n]=np.log(np.abs(G_avg[n]/G_avg[n+1]))/a\n",
    "    E_error[n]=(((G_error[n]*G_avg[n+1])/(a*G_avg[n]))**2+((G_error[n+1]*G_avg[n])/(a*G_avg[n+1]))**2)**(1/2)\n",
    "    t[n]=n*a\n",
    "    #print(n*a,dE[n],E_error[n])"
   ]
  },
  {
   "cell_type": "code",
   "execution_count": 37,
   "metadata": {},
   "outputs": [
    {
     "data": {
      "image/png": "[encoded data removed]",
      "text/plain": [
       "<Figure size 432x288 with 1 Axes>"
      ]
     },
     "metadata": {
      "needs_background": "light"
     },
     "output_type": "display_data"
    }
   ],
   "source": [
    "#plt.plot(t,exact,'b',label='Exact')\n",
    "plt.errorbar(t, dE, yerr=E_error, fmt='.', color='darkorchid', label='Numerical');\n",
    "plt.axis([0,3,0,2])\n",
    "plt.legend(loc='upper right')\n",
    "plt.title('Harmonic oscillator - Cubic ')\n",
    "plt.xlabel('t')\n",
    "plt.axhline(y=1, color='orchid', linestyle='-')\n",
    "plt.ylabel(r'$\\Delta E(t)$')\n",
    "plt.show()"
   ]
  },
  {
   "cell_type": "code",
   "execution_count": null,
   "metadata": {},
   "outputs": [],
   "source": []
  }
 ],
 "metadata": {
  "kernelspec": {
   "display_name": "Python 3",
   "language": "python",
   "name": "python3"
  },
  "language_info": {
   "codemirror_mode": {
    "name": "ipython",
    "version": 3
   },
   "file_extension": ".py",
   "mimetype": "text/x-python",
   "name": "python",
   "nbconvert_exporter": "python",
   "pygments_lexer": "ipython3",
   "version": "3.8.3"
  }
 },
 "nbformat": 4,
 "nbformat_minor": 4
}
