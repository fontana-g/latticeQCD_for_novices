{
 "cells": [
  {
   "cell_type": "markdown",
   "metadata": {},
   "source": [
    "**Harmonic oscillator**\n",
    "\n",
    "improved action, correction term to ensure no numerical ghosts"
   ]
  },
  {
   "cell_type": "code",
   "execution_count": 1,
   "metadata": {},
   "outputs": [],
   "source": [
    "import numpy as np\n",
    "from numpy.random import uniform \n",
    "import matplotlib.pyplot as plt"
   ]
  },
  {
   "cell_type": "markdown",
   "metadata": {},
   "source": [
    "**parameters and arrays**\n",
    "\n",
    "definition of the parameters"
   ]
  },
  {
   "cell_type": "code",
   "execution_count": 2,
   "metadata": {},
   "outputs": [],
   "source": [
    "N=20\n",
    "N_cor = 20\n",
    "N_cf = 10000\n",
    "N_stat=50\n",
    "a = .5\n",
    "epsilon = 1.2\n",
    "m=1"
   ]
  },
  {
   "cell_type": "markdown",
   "metadata": {},
   "source": [
    "arrays allocation"
   ]
  },
  {
   "cell_type": "code",
   "execution_count": 3,
   "metadata": {},
   "outputs": [],
   "source": [
    "x = np.zeros((N,),np.float64)\n",
    "G = np.zeros((N_cf,N),np.float64)\n",
    "G_avgs=np.zeros((N,N_stat),np.float64)\n",
    "G_boot=np.zeros((N_stat,N_cf,N),np.float64)"
   ]
  },
  {
   "cell_type": "markdown",
   "metadata": {},
   "source": [
    "**dS**\n",
    "\n",
    "with correction term"
   ]
  },
  {
   "cell_type": "code",
   "execution_count": 4,
   "metadata": {},
   "outputs": [],
   "source": [
    "def S(i,x,m,a):\n",
    "    i_p = (i+1)%N # next site\n",
    "    i_m = (i-1)%N # previous site\n",
    "    return a*x[i]**2/2*(1+a**2/12)+x[i]*(x[i]-x[i_p]-x[i_m])/a\n"
   ]
  },
  {
   "cell_type": "markdown",
   "metadata": {},
   "source": [
    "**Metropolis sweep**"
   ]
  },
  {
   "cell_type": "code",
   "execution_count": 5,
   "metadata": {},
   "outputs": [],
   "source": [
    "#Metropolis sweep \n",
    "def update(x,m,a,epsilon):\n",
    "    accept=0\n",
    "    \n",
    "    for i in range(len(x)):\n",
    "        x_old=x[i]\n",
    "        S_old=S(i,x,m,a)\n",
    "        \n",
    "        noise=uniform(-epsilon,epsilon)\n",
    "        x[i]+=noise\n",
    "        S_new=S(i,x,m,a)\n",
    "        dS= S_new-S_old\n",
    "        \n",
    "        if dS > 0 and np.exp(-dS)<uniform(0,1):\n",
    "            x[i]=x_old\n",
    "        else:\n",
    "            accept += 1\n",
    "            \n",
    "    return accept/len(x)"
   ]
  },
  {
   "cell_type": "markdown",
   "metadata": {},
   "source": [
    "**compute G_n**"
   ]
  },
  {
   "cell_type": "code",
   "execution_count": 6,
   "metadata": {},
   "outputs": [],
   "source": [
    "def computeG(x,n): #compute G_n\n",
    "    g=0\n",
    "    N=len(x)\n",
    "    for i in range(N):\n",
    "        g+=x[i]*x[(i+n)%N]\n",
    "    return g/N"
   ]
  },
  {
   "cell_type": "markdown",
   "metadata": {},
   "source": [
    "**Monte carlo average**"
   ]
  },
  {
   "cell_type": "code",
   "execution_count": 7,
   "metadata": {},
   "outputs": [],
   "source": [
    "def MCaverage(x,G,N_corr,N_cf):\n",
    "    #N=len(x)\n",
    "    accepted=0\n",
    "    for j in range(10*N_corr):\n",
    "        update(x,m,a,epsilon)\n",
    "    accepted=accepted/(10*N_corr)\n",
    "    for alpha in range(N_cf):\n",
    "        for i in range(N_corr):\n",
    "            accepted+=update(x,m,a,epsilon)\n",
    "        for n in range(N):\n",
    "            G[alpha][n] = computeG(x,n)\n",
    "    accepted=accepted/(N_cf*N_corr)\n",
    "    \n",
    "    #bootstrap copies and averages\n",
    "    G_boot[0]=G\n",
    "    for k in range(1,N_stat):\n",
    "        G_boot[k]=bootstrap(G)\n",
    "    \n",
    "    for k in range(N_stat):\n",
    "        for n in range(N):\n",
    "            avg=0\n",
    "            for alpha in range(N_cf):\n",
    "                G_avgs[n][k]+=G_boot[k][alpha][n]\n",
    "            G_avgs[n][k]=G_avgs[n][k]/N_cf\n",
    "    \n",
    "    return G_avgs,accepted"
   ]
  },
  {
   "cell_type": "markdown",
   "metadata": {},
   "source": [
    "**Delta E**\n",
    "\n",
    "calculation and statistical analysis"
   ]
  },
  {
   "cell_type": "code",
   "execution_count": 8,
   "metadata": {},
   "outputs": [],
   "source": [
    "def DeltaE(G_avgs):\n",
    "    energy=np.zeros((N-1,N_stat),np.float64)\n",
    "    time=np.zeros(N-1,np.float64)\n",
    "    for k in range(N_stat):\n",
    "        for n in range(N-1):\n",
    "            energy[n][k] =np.log(np.abs(G_avgs[n][k]/G_avgs[n+1][k]))/a\n",
    "            #np.log(np.divide(G_avgs[:-1],G_avgs[1:]))\n",
    "            time[n]=n*a\n",
    "\n",
    "    return energy,time"
   ]
  },
  {
   "cell_type": "code",
   "execution_count": 9,
   "metadata": {},
   "outputs": [],
   "source": [
    "def stat_analysis(dE):\n",
    "    \n",
    "    mean_dE=np.zeros(N-1,np.float64)\n",
    "    mean_dE_square=np.zeros(N-1,np.float64)\n",
    "    error_dE=np.zeros(N-1,np.float64)\n",
    "    \n",
    "    for n in range(N-1):\n",
    "        for k in range(N_stat):\n",
    "            mean_dE[n]+=dE[n][k]\n",
    "            mean_dE_square[n]+=(dE[n][k])**2\n",
    "        mean_dE[n]=mean_dE[n]/N_stat\n",
    "        mean_dE_square[n]=mean_dE_square[n]/N_stat\n",
    "        error_dE[n]=((mean_dE_square[n]-(mean_dE[n])**2))**(1/2)\n",
    "    return mean_dE,error_dE\n",
    "    \n"
   ]
  },
  {
   "cell_type": "markdown",
   "metadata": {},
   "source": [
    "**Bootstrap function**"
   ]
  },
  {
   "cell_type": "code",
   "execution_count": 10,
   "metadata": {},
   "outputs": [],
   "source": [
    "def bootstrap(G): \n",
    "    #N_cf = len(G)\n",
    "    G_bootstrap = [] # new ensemble\n",
    "    for i in range(0,N_cf):\n",
    "        alpha = int(uniform(0,N_cf))\n",
    "        G_bootstrap.append(G[alpha]) \n",
    "    return G_bootstrap"
   ]
  },
  {
   "cell_type": "code",
   "execution_count": null,
   "metadata": {},
   "outputs": [],
   "source": []
  },
  {
   "cell_type": "markdown",
   "metadata": {},
   "source": [
    "array allocation for energy analysis"
   ]
  },
  {
   "cell_type": "code",
   "execution_count": 11,
   "metadata": {},
   "outputs": [],
   "source": [
    "DE=np.zeros((N-1,N_stat),np.float64)\n",
    "mean_DE=np.zeros(N-1,np.float64)\n",
    "error_DE=np.zeros(N-1,np.float64)\n",
    "t=np.zeros(N-1,np.float64)"
   ]
  },
  {
   "cell_type": "markdown",
   "metadata": {},
   "source": [
    "Monte Carlo simulation and energy analysis"
   ]
  },
  {
   "cell_type": "code",
   "execution_count": 12,
   "metadata": {},
   "outputs": [
    {
     "name": "stdout",
     "output_type": "stream",
     "text": [
      "acceptance rate: 0.5508772500000388\n"
     ]
    }
   ],
   "source": [
    "MC_avg=0\n",
    "accept_rate=0\n",
    "\n",
    "MC_avg,accept_rate=MCaverage(x,G,N_cor,N_cf)\n",
    "DE,t=DeltaE(MC_avg)\n",
    "mean_DE,error_DE=stat_analysis(DE)\n",
    "print(\"acceptance rate: \"+str(accept_rate))"
   ]
  },
  {
   "cell_type": "markdown",
   "metadata": {},
   "source": [
    "plotting"
   ]
  },
  {
   "cell_type": "code",
   "execution_count": 13,
   "metadata": {},
   "outputs": [
    {
     "data": {
      "image/png": "[encoded data removed]",
      "text/plain": [
       "<Figure size 1440x1080 with 1 Axes>"
      ]
     },
     "metadata": {
      "needs_background": "light"
     },
     "output_type": "display_data"
    }
   ],
   "source": [
    "plt.figure(figsize=(20,15)) \n",
    "plt.title('Harmonic oscillator, N='+str(N_cf),fontsize=36)\n",
    "plt.errorbar(t,mean_DE,yerr=error_DE,fmt='.',color='navy',label='numeric')\n",
    "plt.xlabel(r\"t\",fontsize=28)\n",
    "plt.ylabel(r\"$\\Delta E(t)$\",fontsize=28)\n",
    "plt.xticks(fontsize=16)\n",
    "plt.yticks(fontsize=16)\n",
    "plt.axis([0,3,0,2])\n",
    "plt.axhline(y=1, color='lightsteelblue', linestyle='-')\n",
    "\n",
    "plt.show()"
   ]
  },
  {
   "cell_type": "code",
   "execution_count": null,
   "metadata": {},
   "outputs": [],
   "source": []
  },
  {
   "cell_type": "code",
   "execution_count": null,
   "metadata": {},
   "outputs": [],
   "source": []
  },
  {
   "cell_type": "code",
   "execution_count": null,
   "metadata": {},
   "outputs": [],
   "source": []
  }
 ],
 "metadata": {
  "kernelspec": {
   "display_name": "Python 3",
   "language": "python",
   "name": "python3"
  },
  "language_info": {
   "codemirror_mode": {
    "name": "ipython",
    "version": 3
   },
   "file_extension": ".py",
   "mimetype": "text/x-python",
   "name": "python",
   "nbconvert_exporter": "python",
   "pygments_lexer": "ipython3",
   "version": "3.8.3"
  }
 },
 "nbformat": 4,
 "nbformat_minor": 4
}
