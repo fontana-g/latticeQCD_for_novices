{
 "cells": [
  {
   "cell_type": "markdown",
   "metadata": {},
   "source": [
    "**Harmonic oscillator**\n",
    "\n",
    "x^3 in the propagator"
   ]
  },
  {
   "cell_type": "code",
   "execution_count": null,
   "metadata": {},
   "outputs": [],
   "source": [
    "import numpy as np\n",
    "from matplotlib import pyplot as plt\n",
    "import math\n",
    "from numpy.random import uniform\n",
    "from numpy import *"
   ]
  },
  {
   "cell_type": "markdown",
   "metadata": {},
   "source": [
    "**parameters**"
   ]
  },
  {
   "cell_type": "code",
   "execution_count": 2,
   "metadata": {},
   "outputs": [],
   "source": [
    "a=1/2\n",
    "N=20\n",
    "N_cf=10000\n",
    "N_cor=20\n",
    "N_stat=100\n",
    "epsilon=1.4\n",
    "m=1"
   ]
  },
  {
   "cell_type": "markdown",
   "metadata": {},
   "source": [
    "**arrays allocation**"
   ]
  },
  {
   "cell_type": "code",
   "execution_count": null,
   "metadata": {},
   "outputs": [],
   "source": []
  },
  {
   "cell_type": "code",
   "execution_count": 3,
   "metadata": {},
   "outputs": [],
   "source": [
    "x = np.zeros((N,),np.float64)\n",
    "G = np.zeros((N_cf,N),np.float64)\n",
    "G_avgs=np.zeros((N,N_stat),np.float64)\n",
    "G_sim=np.zeros((N_stat,N_cf,N),np.float64)"
   ]
  },
  {
   "cell_type": "markdown",
   "metadata": {},
   "source": [
    "**Metropolis sweep**"
   ]
  },
  {
   "cell_type": "code",
   "execution_count": 4,
   "metadata": {},
   "outputs": [],
   "source": [
    "def update(x,m,a,epsilon):\n",
    "    accept=0\n",
    "    \n",
    "    for i in range(len(x)):\n",
    "        x_old=x[i]\n",
    "        S_old=S(i,x,m,a)\n",
    "        \n",
    "        noise=uniform(-epsilon,epsilon)\n",
    "        x[i]+=noise\n",
    "        S_new=S(i,x,m,a)\n",
    "        dS= S_new-S_old\n",
    "        \n",
    "        if dS > 0 and exp(-dS)<uniform(0,1):\n",
    "            x[i]=x_old\n",
    "        else:\n",
    "            accept += 1\n",
    "            \n",
    "    return accept/len(x)"
   ]
  },
  {
   "cell_type": "markdown",
   "metadata": {},
   "source": [
    "dS concerning only a certain x[i]"
   ]
  },
  {
   "cell_type": "code",
   "execution_count": 5,
   "metadata": {},
   "outputs": [],
   "source": [
    "def S(i,x,m,a):\n",
    "    i_p = (i+1)%len(x)    # next site\n",
    "    i_m = (i-1)%len(x)    # previous site\n",
    "    return a*((x[i])**2)/2 + x[i]*(x[i]-x[i_p]-x[i_m])*(m/a)"
   ]
  },
  {
   "cell_type": "code",
   "execution_count": 6,
   "metadata": {},
   "outputs": [],
   "source": [
    "def compute_G(x,n):\n",
    "    g = 0\n",
    "    for i in range(N):\n",
    "        g = g + (x[i]**3)*(x[(i+n)%N]**3)\n",
    "    return g/N"
   ]
  },
  {
   "cell_type": "code",
   "execution_count": 7,
   "metadata": {},
   "outputs": [],
   "source": [
    "def MCaverage(x,G,N_corr,N_cf):\n",
    "    \n",
    "    accepted=0\n",
    "    for j in range(10*N_corr):\n",
    "        update(x,m,a,epsilon)\n",
    "    accepted=accepted/(10*N_corr)\n",
    "    \n",
    "    for alpha in range(N_cf):\n",
    "        for i in range(N_corr):\n",
    "            accepted+=update(x,m,a,epsilon)\n",
    "        for n in range(N):\n",
    "            G[alpha][n] = compute_G(x,n)\n",
    "    accepted=accepted/(N_cf*N_corr)\n",
    "    #in the end we have a matrix with N_cf rows and len(x) columns\n",
    "    #we have to compute averages summing over alphas\n",
    "    G_sim[0]=G\n",
    "    for k in range(1,N_stat):\n",
    "        G_sim[k]=bootstrap(G)\n",
    "    #G_avgs=[]\n",
    "    for k in range(N_stat):\n",
    "        for n in range(N):\n",
    "            avg=0\n",
    "            for alpha in range(N_cf):\n",
    "                G_avgs[n][k]+=G_sim[k][alpha][n]\n",
    "            G_avgs[n][k]=G_avgs[n][k]/N_cf\n",
    "    #print(f\"averages: {G_avgs}\")\n",
    "    return G_avgs,accepted"
   ]
  },
  {
   "cell_type": "code",
   "execution_count": 8,
   "metadata": {},
   "outputs": [],
   "source": [
    "def bootstrap(G): \n",
    "    N_cf = len(G)\n",
    "    G_bootstrap = [] # new ensemble\n",
    "    for i in range(0,N_cf):\n",
    "        alpha = int(uniform(0,N_cf))\n",
    "        G_bootstrap.append(G[alpha]) \n",
    "    return G_bootstrap"
   ]
  },
  {
   "cell_type": "code",
   "execution_count": 9,
   "metadata": {},
   "outputs": [],
   "source": [
    "# choose random config # keep G[alpha]\n",
    "def bin(G,binsize): \n",
    "    G_binned = []\n",
    "    for i in range(0,len(G),binsize): \n",
    "        G_avg = 0\n",
    "        for j in range(0,binsize): \n",
    "            G_avg = G_avg + G[i+j]\n",
    "        G_binned.append(G_avg/binsize)\n",
    "    return G_binned\n",
    "\n",
    "\n"
   ]
  },
  {
   "cell_type": "code",
   "execution_count": 10,
   "metadata": {},
   "outputs": [],
   "source": [
    "#returns an array of averages of length N [Gavg0, ..., Gavg(N-1)]\n",
    "def DeltaE(G_avgs):\n",
    "    for k in range(N_stat):\n",
    "        for n in range(N-1):\n",
    "            dE[n][k] =np.log(np.abs(G_avgs[n][k]/G_avgs[n+1][k]))/a\n",
    "            #np.log(np.divide(G_avgs[:-1],G_avgs[1:]))\n",
    "            t[n]=n*a\n",
    "            #exact[n]=1\n",
    "    return dE"
   ]
  },
  {
   "cell_type": "code",
   "execution_count": 11,
   "metadata": {},
   "outputs": [],
   "source": [
    "def stat_analysis(dE):\n",
    "    for n in range(N-1):\n",
    "        for k in range(N_stat):\n",
    "            mean_dE[n]+=dE[n][k]\n",
    "            mean_dE_square[n]+=(dE[n][k])**2\n",
    "        mean_dE[n]=mean_dE[n]/N_stat\n",
    "        mean_dE_square[n]=mean_dE_square[n]/N_stat\n",
    "        error_dE[n]=((mean_dE_square[n]-(mean_dE[n])**2))**(1/2)\n",
    "    return mean_dE,error_dE\n",
    "   "
   ]
  },
  {
   "cell_type": "code",
   "execution_count": 12,
   "metadata": {},
   "outputs": [],
   "source": [
    "dE=np.zeros((N-1,N_stat),np.float64)\n",
    "DE=np.zeros((N-1,N_stat),np.float64)\n",
    "mean_dE=np.zeros(N-1,np.float64)\n",
    "mean_DE=np.zeros(N-1,np.float64)\n",
    "mean_dE_square=np.zeros(N-1,np.float64)\n",
    "error_dE=np.zeros(N-1,np.float64)\n",
    "error_DE=np.zeros(N-1,np.float64)\n",
    "t=np.zeros(N-1,np.float64)"
   ]
  },
  {
   "cell_type": "code",
   "execution_count": 13,
   "metadata": {},
   "outputs": [
    {
     "name": "stdout",
     "output_type": "stream",
     "text": [
      "acceptance rate: 0.49655449999999246\n"
     ]
    }
   ],
   "source": [
    "MC_avg=0\n",
    "accept_rate=0\n",
    "\n",
    "MC_avg,accept_rate=MCaverage(x,G,N_cor,N_cf)\n",
    "DE=DeltaE(MC_avg)\n",
    "mean_DE,error_DE=stat_analysis(DE)\n",
    "print(\"acceptance rate: \"+str(accept_rate))"
   ]
  },
  {
   "cell_type": "code",
   "execution_count": null,
   "metadata": {},
   "outputs": [],
   "source": []
  },
  {
   "cell_type": "code",
   "execution_count": null,
   "metadata": {},
   "outputs": [],
   "source": []
  },
  {
   "cell_type": "markdown",
   "metadata": {},
   "source": [
    "**plotting**"
   ]
  },
  {
   "cell_type": "code",
   "execution_count": 14,
   "metadata": {},
   "outputs": [
    {
     "data": {
      "image/png": "[encoded data removed]",
      "text/plain": [
       "<Figure size 1440x1080 with 1 Axes>"
      ]
     },
     "metadata": {
      "needs_background": "light"
     },
     "output_type": "display_data"
    }
   ],
   "source": [
    "plt.figure(figsize=(20,15)) # 10 is width, 10 is height\n",
    "plt.title('Harmonic oscillator with $x^3$, N='+str(N_cf),fontsize=36)\n",
    "plt.errorbar(t,mean_DE,yerr=error_DE,fmt='.',color='navy',label='numeric')\n",
    "plt.xlabel(r\"t\",fontsize=24)\n",
    "plt.ylabel(r\"$\\Delta E(t)$\",fontsize=24)\n",
    "plt.xlim(0, 3)\n",
    "plt.ylim(0,2)\n",
    "plt.axhline(y=1, color='lightsteelblue', linestyle='-')\n",
    "#plt.plot(xaxis,yaxis,'o', markersize= 4)\n",
    "\n",
    "plt.show()"
   ]
  },
  {
   "cell_type": "code",
   "execution_count": null,
   "metadata": {},
   "outputs": [],
   "source": []
  },
  {
   "cell_type": "code",
   "execution_count": null,
   "metadata": {},
   "outputs": [],
   "source": []
  }
 ],
 "metadata": {
  "kernelspec": {
   "display_name": "Python 3",
   "language": "python",
   "name": "python3"
  },
  "language_info": {
   "codemirror_mode": {
    "name": "ipython",
    "version": 3
   },
   "file_extension": ".py",
   "mimetype": "text/x-python",
   "name": "python",
   "nbconvert_exporter": "python",
   "pygments_lexer": "ipython3",
   "version": "3.8.3"
  }
 },
 "nbformat": 4,
 "nbformat_minor": 4
}
