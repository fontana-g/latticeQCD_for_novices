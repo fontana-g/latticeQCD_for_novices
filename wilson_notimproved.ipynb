{
 "cells": [
  {
   "cell_type": "markdown",
   "metadata": {},
   "source": [
    "**Wilson Loop axa not improved**"
   ]
  },
  {
   "cell_type": "markdown",
   "metadata": {},
   "source": [
    "load packages"
   ]
  },
  {
   "cell_type": "code",
   "execution_count": 1,
   "metadata": {},
   "outputs": [],
   "source": [
    "import numpy as np\n",
    "from numpy.random import uniform \n",
    "import matplotlib.pyplot as plt\n",
    "import os\n",
    "from tqdm import tqdm"
   ]
  },
  {
   "cell_type": "markdown",
   "metadata": {},
   "source": [
    "**functions to generate SU(3) matrices**"
   ]
  },
  {
   "cell_type": "code",
   "execution_count": 2,
   "metadata": {},
   "outputs": [],
   "source": [
    "def generate_hermitean():\n",
    "    H=np.zeros((3,3),np.complex_)\n",
    "    for i in range(3):\n",
    "        for j in range(3):\n",
    "            H[i][j]= uniform(-1,1) + 1j*uniform(-1,1)\n",
    "    H = (1/2)*(H+np.matrix.getH(H))\n",
    "    return H#.copy()"
   ]
  },
  {
   "cell_type": "code",
   "execution_count": 3,
   "metadata": {},
   "outputs": [],
   "source": [
    "def unitarization(H):\n",
    "    M=np.zeros((3,3),np.complex_)\n",
    "   \n",
    "    for n in range(30):\n",
    "        M+=(((1j*eps)**n)/(np.math.factorial(n))*np.linalg.matrix_power(H,n))\n",
    "    detM=np.linalg.det(M)**(1/3)\n",
    "    M=M/detM\n",
    "    \n",
    "    return M"
   ]
  },
  {
   "cell_type": "code",
   "execution_count": 4,
   "metadata": {},
   "outputs": [],
   "source": [
    "def generate_pool(MatList,Nmatrix):\n",
    "    \n",
    "    H=np.zeros((3,3),np.complex_)\n",
    "    \n",
    "    for i in range(Nmatrix):\n",
    "        H=generate_hermitean()\n",
    "        MatList[i]=unitarization(H)\n",
    "        MatList[Nmatrix+i]=np.matrix.getH(unitarization(H))\n",
    "        \n",
    "    return MatList"
   ]
  },
  {
   "cell_type": "markdown",
   "metadata": {},
   "source": [
    "**lattice generation function**\n",
    "\n",
    "generate lattice and 4 3x3 identity matrices on each site"
   ]
  },
  {
   "cell_type": "code",
   "execution_count": 5,
   "metadata": {},
   "outputs": [],
   "source": [
    "def create_lattice(Npoints,dim):\n",
    "    points = np.empty( (Npoints,Npoints,Npoints,Npoints,dim,3,3), np.complex_ )\n",
    "    \n",
    "    #print(lattice)\n",
    "    for t in range(Npoints):\n",
    "        for x in range(Npoints):\n",
    "            for y in range(Npoints):\n",
    "                for z in range(Npoints):\n",
    "                    for mu in range(dim):\n",
    "                        points[t,x,y,z,mu]=np.identity(3,np.complex_)    \n",
    "    print(\"finish lattice creation\")  #debug\n",
    "    return points"
   ]
  },
  {
   "cell_type": "markdown",
   "metadata": {},
   "source": [
    "**coordinate functions**\n",
    "\n",
    "moving a given point in + direction or - direction"
   ]
  },
  {
   "cell_type": "code",
   "execution_count": 6,
   "metadata": {},
   "outputs": [],
   "source": [
    "#moving a coordinate up\n",
    "def up(coordinate,direction,dimensions,N_points):\n",
    "    coord_up=np.zeros((dimensions),np.int_)\n",
    "    up=np.zeros((dimensions),np.int_)\n",
    "    up[direction]=1\n",
    "    coord_up=(coordinate + up)%N_points\n",
    "    return coord_up\n",
    "\n",
    "\n",
    "#moving a coordinate down\n",
    "def down(coordinate,direction,dimensions,N_points):\n",
    "    coord_down=np.zeros((dimensions),np.int_)\n",
    "    down=np.zeros((dimensions),np.int_)\n",
    "    down[direction]=1\n",
    "    coord_down=(coordinate-down)%N_points\n",
    "    return coord_down"
   ]
  },
  {
   "cell_type": "markdown",
   "metadata": {},
   "source": [
    "**plaquette**\n",
    "\n",
    "only up and down 1x1 squares"
   ]
  },
  {
   "cell_type": "code",
   "execution_count": 7,
   "metadata": {},
   "outputs": [],
   "source": [
    "def plaquette(lattice,mu,x,y,z,t):\n",
    "    \n",
    "    staple=0. \n",
    "    staple_up=0.\n",
    "    staple_down=0.\n",
    "    \n",
    "    point=[x,y,z,t]\n",
    "    #point(x+mu)\n",
    "    point_umu=np.zeros((4),np.int_)\n",
    "    point_umu=up(point,mu,4,N)\n",
    "    \n",
    "    for nu in range(4):\n",
    "        if nu!=mu :\n",
    "            \n",
    "            #point(x+nu)\n",
    "            point_unu=np.zeros((4),np.int_)\n",
    "            point_unu=up(point,nu,4,N)\n",
    "            \n",
    "            #point(x-nu)\n",
    "            point_dnu=np.zeros((4),np.int_)\n",
    "            point_dnu=down(point,nu,4,N)\n",
    "            \n",
    "            #point(x+mu+nu)\n",
    "            point_umu_unu=np.zeros((4),np.int_)\n",
    "            point_umu_unu=up(point_umu,nu,4,N)\n",
    "            \n",
    "            #point(x+mu-nu)\n",
    "            point_umu_dnu=np.zeros((4),np.int_)\n",
    "            point_umu_dnu=up(point_dnu,mu,4,N)\n",
    "            \n",
    "            U_nu_upmu=np.zeros((3,3),np.complex_)\n",
    "            U_nu=np.zeros((3,3),np.complex_)\n",
    "            U_nu_downnu=np.zeros((3,3),np.complex_)\n",
    "            U_mu_downnu=np.zeros((3,3),np.complex_) \n",
    "            U_mu_upmudownnu=np.zeros((3,3),np.complex_)\n",
    "            \n",
    "            U_nu_upmu=lattice[point_umu[0],point_umu[1],point_umu[2],point_umu[3],nu]\n",
    "            U_mu_upnu=lattice[point_unu[0],point_unu[1],point_unu[2],point_unu[3],mu]\n",
    "            U_nu=lattice[point[0],point[1],point[2],point[3],nu]\n",
    "            U_nu_downnu=lattice[point_dnu[0],point_dnu[1],point_dnu[2],point_dnu[3],nu]\n",
    "            U_mu_downnu=lattice[point_dnu[0],point_dnu[1],point_dnu[2],point_dnu[3],mu]\n",
    "            U_nu_upmudownnu=lattice[point_umu_dnu[0],point_umu_dnu[1],point_umu_dnu[2],point_umu_dnu[3],nu]\n",
    "            \n",
    "            staple_up=np.dot(np.dot(U_nu_upmu,np.matrix.getH(U_mu_upnu)),np.matrix.getH(U_nu))\n",
    "            staple_down=np.dot(np.dot(np.matrix.getH(U_nu_upmudownnu),np.matrix.getH(U_mu_downnu)),U_nu_downnu)\n",
    "            \n",
    "            staple=staple + staple_up + staple_down\n",
    "                        \n",
    "\n",
    "    return staple.copy()"
   ]
  },
  {
   "cell_type": "markdown",
   "metadata": {},
   "source": [
    "**metropolis function**"
   ]
  },
  {
   "cell_type": "code",
   "execution_count": 8,
   "metadata": {},
   "outputs": [],
   "source": [
    "def lattice_update(lattice,Xs):\n",
    "    \n",
    "    n_hits=10\n",
    "    gamma=0\n",
    "    \n",
    "    for x in range(N):\n",
    "        for y in range(N):\n",
    "            for z in range(N):\n",
    "                for t in range(N):\n",
    "                    for mu in range(4):\n",
    "                        \n",
    "                        coord=[x,y,z,t]\n",
    "                        gamma=plaquette(lattice,mu,x,y,z,t)\n",
    "                        \n",
    "                        for i in range(n_hits):#do n_hits of metropolis update\n",
    "                            \n",
    "                            xi=np.random.randint(2, N_matrix*2)#why 2?\n",
    "                            U_old=lattice[coord[0],coord[1],coord[2],coord[3],mu]\n",
    "                            U_new=np.dot(Xs[xi],U_old)\n",
    "                            \n",
    "                            dS= -(beta/3)*np.real(np.trace(np.dot(U_new-U_old,gamma)))\n",
    "                            if dS<0 or np.exp(-dS)>np.random.uniform(0,1):\n",
    "                                lattice[coord[0],coord[1],coord[2],coord[3],mu] = U_new"
   ]
  },
  {
   "cell_type": "markdown",
   "metadata": {},
   "source": [
    "**wilson axa and ax2a**\n",
    "\n",
    "given a point in the lattice"
   ]
  },
  {
   "cell_type": "code",
   "execution_count": 9,
   "metadata": {},
   "outputs": [],
   "source": [
    "def wilson_axa(lattice,x,y,z,t):\n",
    "\n",
    "    w_axa=0\n",
    "    \n",
    "    point_umu=np.zeros((dim),np.int_)\n",
    "    point_unu=np.zeros((dim),np.int_)\n",
    "    point=[x,y,z,t]\n",
    "    \n",
    "    U_mu=np.zeros((3,3),np.complex_)\n",
    "    U_nu_upmu=np.zeros((3,3),np.complex_)\n",
    "    U_dag_mu_upnu=np.zeros((3,3),np.complex_)\n",
    "    U_dag_nu=np.zeros((3,3),np.complex_)\n",
    "    \n",
    "    for mu in range(4):\n",
    "        \n",
    "        #point(x+mu)\n",
    "        point_umu= up(point,mu,dim,N)\n",
    "        for nu in range(mu):\n",
    "            \n",
    "            #point(x+nu)\n",
    "            point_unu= up(point,nu,dim,N)\n",
    "            \n",
    "            \n",
    "            U_mu=lattice[point[0],point[1],point[2],point[3],mu]\n",
    "            U_nu_upmu=lattice[point_umu[0],point_umu[1],point_umu[2],point_umu[3],nu]\n",
    "            U_dag_mu_upnu=np.matrix.getH(lattice[point_unu[0],point_unu[1],point_unu[2],point_unu[3],mu])\n",
    "            U_dag_nu=np.matrix.getH(lattice[point[0],point[1],point[2],point[3],nu])\n",
    "            \n",
    "            w_axa += np.trace( np.dot(U_mu,np.dot(np.dot(U_nu_upmu,U_dag_mu_upnu), U_dag_nu)))\n",
    "            \n",
    "    return np.real(w_axa)/(3.*6.)\n"
   ]
  },
  {
   "cell_type": "code",
   "execution_count": 10,
   "metadata": {},
   "outputs": [],
   "source": [
    "def wilson_ax2a(lattice,x,y,z,t):\n",
    "\n",
    "    w_ax2a = 0.\n",
    "    point=[x,y,z,t]\n",
    "    \n",
    "    U_mu=np.zeros((3,3),np.complex_)\n",
    "    U_nu_upnu=np.zeros((3,3),np.complex_)\n",
    "    U_nu_upmu=np.zeros((3,3),np.complex_)\n",
    "    U_mu_upupnu=np.zeros((3,3),np.complex_)\n",
    "    U_nu_upmuupnu=np.zeros((3,3),np.complex_)\n",
    "    U_nu=np.zeros((3,3),np.complex_)\n",
    "    \n",
    "    for mu in range(4):\n",
    "        point_umu=np.zeros((4),np.int_)\n",
    "        point_umu=up(point,mu,4,N)\n",
    "        for nu in range(3,mu,-1):\n",
    "            if nu!=mu :\n",
    "                \n",
    "                #next site on nu\n",
    "                point_unu=np.zeros((4),np.int_)\n",
    "                point_unu=up(point,nu,4,N)\n",
    "                \n",
    "                #next site on nu and mu\n",
    "                point_umu_unu=np.zeros((4),np.int_)\n",
    "                point_umu_unu=up(point_unu,mu,4,N)\n",
    "                \n",
    "                #next site on 2nu\n",
    "                point_uunu=np.zeros((4),np.int_)\n",
    "                point_uunu=up(point_unu,nu,4,N)\n",
    "                \n",
    "                U_mu=lattice[point[0],point[1],point[2],point[3],mu]\n",
    "                U_nu_upmuupnu=lattice[point_umu_unu[0],point_umu_unu[1],point_umu_unu[2],point_umu_unu[3],nu]\n",
    "                U_nu_upnu=lattice[point_unu[0],point_unu[1],point_unu[2],point_unu[3],nu]\n",
    "                U_mu_upupnu=lattice[point_uunu[0],point_uunu[1],point_uunu[2],point_uunu[3],mu]\n",
    "                U_nu=lattice[point[0],point[1],point[2],point[3],nu]\n",
    "                U_nu_upmu=lattice[point_umu[0],point_umu[1],point_umu[2],point_umu[3],nu]\n",
    "                \n",
    "                w_ax2a += np.trace(np.dot(U_mu,\\\n",
    "                        np.dot(np.dot(U_nu_upmu,U_nu_upmuupnu),\\\n",
    "                        np.dot(np.matrix.getH(U_mu_upupnu),\\\n",
    "                        np.dot(np.matrix.getH(U_nu_upnu),np.matrix.getH(U_nu))))))\n",
    "\n",
    "        \n",
    "    return np.real(w_ax2a)/(3.*6.)"
   ]
  },
  {
   "cell_type": "code",
   "execution_count": null,
   "metadata": {},
   "outputs": [],
   "source": []
  },
  {
   "cell_type": "markdown",
   "metadata": {},
   "source": [
    "functions to run over the whole lattice and computing wilson loops axa"
   ]
  },
  {
   "cell_type": "code",
   "execution_count": 11,
   "metadata": {},
   "outputs": [],
   "source": [
    "def compute_wilson_axa(lattice,Xs,WL_axa,N_cf,N_cor):\n",
    "    \n",
    "    for alpha in range(N_cf): \n",
    "        for j in range(N_cor):\n",
    "            lattice_update(lattice,Xs)\n",
    "        for x in range(N):\n",
    "            for y in range(N):\n",
    "                for z in range(N):\n",
    "                    for t in range(N):\n",
    "                        WL_axa[alpha]+=wilson_axa(lattice,x,y,z,t) \n",
    "        WL_axa[alpha]=WL_axa[alpha]/N**4\n",
    "        print(alpha+1,WL_axa[alpha])"
   ]
  },
  {
   "cell_type": "code",
   "execution_count": 12,
   "metadata": {},
   "outputs": [],
   "source": [
    "def compute_wilson_ax2a(lattice,Xs,WL_ax2a,N_cf,N_cor):\n",
    "    \n",
    "    for alpha in range(N_cf): \n",
    "        for j in range(N_cor):\n",
    "            lattice_update(lattice,Xs)\n",
    "        for x in range(N):\n",
    "            for y in range(N):\n",
    "                for z in range(N):\n",
    "                    for t in range(N):\n",
    "                        WL_ax2a[alpha]+=wilson_ax2a(lattice,x,y,z,t) \n",
    "        WL_ax2a[alpha]=WL_ax2a[alpha]/N**4\n",
    "        print(alpha+1,WL_ax2a[alpha])"
   ]
  },
  {
   "cell_type": "markdown",
   "metadata": {},
   "source": [
    "**main**\n",
    "\n",
    "input parameters, arrays allocation"
   ]
  },
  {
   "cell_type": "code",
   "execution_count": 13,
   "metadata": {},
   "outputs": [],
   "source": [
    "a=.25\n",
    "N = 8\n",
    "N_cf=10\n",
    "N_matrix=100\n",
    "N_cor = 50\n",
    "beta = 5.5\n",
    "dim=4\n",
    "eps=0.24\n",
    "\n",
    "lattice=np.zeros((N,N,N,N,4,3,3),np.complex_)\n",
    "WL_axa=np.zeros((N_cf),np.double)\n",
    "WL_ax2a=np.zeros((N_cf),np.double)\n",
    "update_Ms=np.zeros((N_matrix*2,3,3),np.complex_)"
   ]
  },
  {
   "cell_type": "code",
   "execution_count": null,
   "metadata": {},
   "outputs": [],
   "source": []
  },
  {
   "cell_type": "markdown",
   "metadata": {},
   "source": [
    "**thermalization**"
   ]
  },
  {
   "cell_type": "code",
   "execution_count": 14,
   "metadata": {},
   "outputs": [
    {
     "name": "stdout",
     "output_type": "stream",
     "text": [
      "finish lattice creation\n"
     ]
    },
    {
     "name": "stderr",
     "output_type": "stream",
     "text": [
      "100%|██████████| 100/100 [12:17<00:00,  7.38s/it]"
     ]
    },
    {
     "name": "stdout",
     "output_type": "stream",
     "text": [
      "thermalization done\n"
     ]
    },
    {
     "name": "stderr",
     "output_type": "stream",
     "text": [
      "\n"
     ]
    }
   ],
   "source": [
    "lattice=create_lattice(N,dim) #creating lattice\n",
    "update_Ms=generate_pool(update_Ms,N_matrix)#generating the list of update_matrices \n",
    "\n",
    "for i in tqdm(range(2*N_cor)):\n",
    "    lattice_update(lattice,update_Ms)\n",
    "    \n",
    "print(\"thermalization done\")"
   ]
  },
  {
   "cell_type": "markdown",
   "metadata": {},
   "source": [
    "**computation**\n",
    "\n",
    "of Wilson loops axa and ax2a for N_cf configurations and printing"
   ]
  },
  {
   "cell_type": "code",
   "execution_count": 15,
   "metadata": {},
   "outputs": [
    {
     "name": "stdout",
     "output_type": "stream",
     "text": [
      "1 0.5011510274495244\n",
      "2 0.5030256620689989\n",
      "3 0.4964188200303654\n",
      "4 0.4947969630902433\n",
      "5 0.4937030037605661\n",
      "6 0.4967380419480946\n",
      "7 0.48941139582386173\n",
      "8 0.49587737048546576\n",
      "9 0.4992540567323814\n",
      "10 0.5003237948438064\n"
     ]
    }
   ],
   "source": [
    "compute_wilson_axa(lattice,update_Ms,WL_axa,N_cf,N_cor)"
   ]
  },
  {
   "cell_type": "code",
   "execution_count": 16,
   "metadata": {},
   "outputs": [
    {
     "name": "stdout",
     "output_type": "stream",
     "text": [
      "1 0.2630376965351199\n",
      "2 0.2618624673301608\n",
      "3 0.2608694546856779\n",
      "4 0.26152705787647007\n",
      "5 0.2510453576152302\n",
      "6 0.2625533605323226\n",
      "7 0.26425957596730804\n",
      "8 0.2593607123242143\n",
      "9 0.25983704805424374\n",
      "10 0.2568761669297107\n"
     ]
    }
   ],
   "source": [
    "compute_wilson_ax2a(lattice,update_Ms,WL_ax2a,N_cf,N_cor)"
   ]
  },
  {
   "cell_type": "markdown",
   "metadata": {},
   "source": [
    "**averages**\n",
    "\n",
    "and error analysis"
   ]
  },
  {
   "cell_type": "code",
   "execution_count": 29,
   "metadata": {},
   "outputs": [],
   "source": [
    "def avg_analysis(wl):\n",
    "    wl_avg=0.\n",
    "    wl_sq_avg=0.\n",
    "    wl_dev_std=0.\n",
    "    \n",
    "    for alpha in range(N_cf):\n",
    "        wl_avg += wl[alpha]\n",
    "        wl_sq_avg+=wl[alpha]**2 \n",
    "        \n",
    "    wl_avg=wl_avg/N_cf\n",
    "    wl_sq_avg=wl_sq_avg/N_cf\n",
    "    wl_dev_std=(abs(wl_sq_avg-wl_avg**2)/N_cf)**(1/2)\n",
    "    return wl_avg,wl_dev_std"
   ]
  },
  {
   "cell_type": "code",
   "execution_count": 31,
   "metadata": {},
   "outputs": [],
   "source": [
    "WL_axa_avg = 0.\n",
    "WL_axa_dev_std=0.\n",
    "WL_ax2a_avg = 0.\n",
    "WL_a2xa_dev_std=0."
   ]
  },
  {
   "cell_type": "code",
   "execution_count": 32,
   "metadata": {},
   "outputs": [],
   "source": [
    "WL_axa_avg,WL_axa_dev_std=avg_analysis(WL_axa)\n",
    "WL_ax2a_avg,WL_ax2a_dev_std=avg_analysis(WL_ax2a)"
   ]
  },
  {
   "cell_type": "markdown",
   "metadata": {},
   "source": [
    "**file writing**"
   ]
  },
  {
   "cell_type": "code",
   "execution_count": 24,
   "metadata": {},
   "outputs": [
    {
     "data": {
      "text/plain": [
       "38"
      ]
     },
     "execution_count": 24,
     "metadata": {},
     "output_type": "execute_result"
    }
   ],
   "source": [
    "file1 = open(\"wilson_loop_notimp.txt\", \"w\")\n",
    "file1.write('######################################\\n')\n",
    "file1.write(' Wilson loop axa action not improved\\n\\n')"
   ]
  },
  {
   "cell_type": "code",
   "execution_count": 25,
   "metadata": {},
   "outputs": [
    {
     "data": {
      "text/plain": [
       "56"
      ]
     },
     "execution_count": 25,
     "metadata": {},
     "output_type": "execute_result"
    }
   ],
   "source": [
    "for alpha in range(N_cf):\n",
    "    content = str(WL_axa[alpha])\n",
    "    file1.write(str(alpha)+'  '+content+'\\n')\n",
    "file1.write('\\n')\n",
    "file1.write('mean:     '+str(WL_axa_avg)+ '    +/- '+str(WL_axa_dev_std))\n"
   ]
  },
  {
   "cell_type": "code",
   "execution_count": 26,
   "metadata": {},
   "outputs": [
    {
     "data": {
      "text/plain": [
       "40"
      ]
     },
     "execution_count": 26,
     "metadata": {},
     "output_type": "execute_result"
    }
   ],
   "source": [
    "file1.write('\\n######################################\\n')"
   ]
  },
  {
   "cell_type": "code",
   "execution_count": 27,
   "metadata": {},
   "outputs": [],
   "source": [
    "file1.write('\\n Wilson loop ax2a action not improved\\n\\n')\n",
    "for alpha in range(N_cf):\n",
    "    content = str(WL_ax2a[alpha])\n",
    "    file1.write(str(alpha)+'  '+content+'\\n')\n",
    "file1.write('\\n')\n",
    "file1.write('mean:     '+str(WL_ax2a_avg)+ '    +/- '+str(WL_ax2a_dev_std))\n",
    "file1.write('\\n######################################\\n')\n",
    "file1.close()"
   ]
  },
  {
   "cell_type": "markdown",
   "metadata": {},
   "source": [
    "check file writing"
   ]
  },
  {
   "cell_type": "code",
   "execution_count": 28,
   "metadata": {},
   "outputs": [
    {
     "name": "stdout",
     "output_type": "stream",
     "text": [
      "\n",
      "Content:\n",
      " ######################################\n",
      " Wilson loop axa action not improved\n",
      "\n",
      "0  0.5011510274495244\n",
      "1  0.5030256620689989\n",
      "2  0.4964188200303654\n",
      "3  0.4947969630902433\n",
      "4  0.4937030037605661\n",
      "5  0.4967380419480946\n",
      "6  0.48941139582386173\n",
      "7  0.49587737048546576\n",
      "8  0.4992540567323814\n",
      "9  0.5003237948438064\n",
      "\n",
      "mean:     0.4970700136233308    +/- 0.001202481415548086\n",
      "######################################\n",
      "\n",
      " Wilson loop ax2a action not improved\n",
      "\n",
      "0  0.2630376965351199\n",
      "1  0.2618624673301608\n",
      "2  0.2608694546856779\n",
      "3  0.26152705787647007\n",
      "4  0.2510453576152302\n",
      "5  0.2625533605323226\n",
      "6  0.26425957596730804\n",
      "7  0.2593607123242143\n",
      "8  0.25983704805424374\n",
      "9  0.2568761669297107\n",
      "\n",
      "mean:     0.26012288978504583    +/- 0.0011431362814628301\n",
      "######################################\n",
      "\n"
     ]
    }
   ],
   "source": [
    "file1 = open(\"wilson_loop_notimp.txt\", \"r\")\n",
    "content = file1.read()\n",
    " \n",
    "print(\"\\nContent:\\n\", content)\n",
    "file1.close()"
   ]
  },
  {
   "cell_type": "code",
   "execution_count": null,
   "metadata": {},
   "outputs": [],
   "source": []
  },
  {
   "cell_type": "code",
   "execution_count": null,
   "metadata": {},
   "outputs": [],
   "source": []
  },
  {
   "cell_type": "code",
   "execution_count": null,
   "metadata": {},
   "outputs": [],
   "source": []
  }
 ],
 "metadata": {
  "kernelspec": {
   "display_name": "Python 3",
   "language": "python",
   "name": "python3"
  },
  "language_info": {
   "codemirror_mode": {
    "name": "ipython",
    "version": 3
   },
   "file_extension": ".py",
   "mimetype": "text/x-python",
   "name": "python",
   "nbconvert_exporter": "python",
   "pygments_lexer": "ipython3",
   "version": "3.8.3"
  }
 },
 "nbformat": 4,
 "nbformat_minor": 4
}
